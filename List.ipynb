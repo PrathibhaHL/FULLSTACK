{
  "nbformat": 4,
  "nbformat_minor": 0,
  "metadata": {
    "colab": {
      "name": "List.ipynb",
      "provenance": [],
      "collapsed_sections": [],
      "authorship_tag": "ABX9TyMXeI+eFwgYvFJcYyqsn8ps",
      "include_colab_link": true
    },
    "kernelspec": {
      "name": "python3",
      "display_name": "Python 3"
    },
    "language_info": {
      "name": "python"
    }
  },
  "cells": [
    {
      "cell_type": "markdown",
      "metadata": {
        "id": "view-in-github",
        "colab_type": "text"
      },
      "source": [
        "<a href=\"https://colab.research.google.com/github/PrathibhaHL/FULLSTACK/blob/main/List.ipynb\" target=\"_parent\"><img src=\"https://colab.research.google.com/assets/colab-badge.svg\" alt=\"Open In Colab\"/></a>"
      ]
    },
    {
      "cell_type": "code",
      "metadata": {
        "colab": {
          "base_uri": "https://localhost:8080/"
        },
        "id": "SF4oHWpavE58",
        "outputId": "59ca25ad-33d6-4fdd-cd92-4c1c267cbaa6"
      },
      "source": [
        "#creating a list\n",
        "veglist=[\"tomato\",\"cabbage\",\"raddish\",\"chilly\",\"potato\"]\n",
        "print(veglist)\n",
        "print(veglist[-1])\n",
        "print(veglist[4])\n",
        "print(veglist[:4])\n",
        "print(veglist[3:])"
      ],
      "execution_count": null,
      "outputs": [
        {
          "output_type": "stream",
          "name": "stdout",
          "text": [
            "['tomato', 'cabbage', 'raddish', 'chilly', 'potato']\n",
            "potato\n",
            "potato\n",
            "['tomato', 'cabbage', 'raddish', 'chilly']\n",
            "['chilly', 'potato']\n"
          ]
        }
      ]
    },
    {
      "cell_type": "code",
      "metadata": {
        "colab": {
          "base_uri": "https://localhost:8080/"
        },
        "id": "Ct2N6V9FwBRx",
        "outputId": "5cdfb398-2cef-4765-a91e-af33bd536ae7"
      },
      "source": [
        "#reassginment\n",
        "veglist=[\"tomato\",\"cabbage\",\"raddish\",\"chilly\",\"potato\"]\n",
        "veglist[2]=\"carrot\"\n",
        "print(veglist)"
      ],
      "execution_count": null,
      "outputs": [
        {
          "output_type": "stream",
          "name": "stdout",
          "text": [
            "['tomato', 'cabbage', 'carrot', 'chilly', 'potato']\n"
          ]
        }
      ]
    },
    {
      "cell_type": "code",
      "metadata": {
        "colab": {
          "base_uri": "https://localhost:8080/"
        },
        "id": "DiFhlTVWw6KN",
        "outputId": "39849ee1-6334-4014-e212-c022bfe35705"
      },
      "source": [
        "#reassignment using loop\n",
        "veglist=[\"tomato\",\"cabbage\",\"raddish\",\"chilly\",\"potato\"]\n",
        "for x in veglist:\n",
        "  print(x)"
      ],
      "execution_count": null,
      "outputs": [
        {
          "output_type": "stream",
          "name": "stdout",
          "text": [
            "tomato\n",
            "cabbage\n",
            "raddish\n",
            "chilly\n",
            "potato\n"
          ]
        }
      ]
    },
    {
      "cell_type": "code",
      "metadata": {
        "colab": {
          "base_uri": "https://localhost:8080/"
        },
        "id": "wJeb3XDRxUe3",
        "outputId": "7e9209b9-e3ac-4ac6-b137-bd9c7225fb0d"
      },
      "source": [
        "#length of list\n",
        "veglist=[\"tomato\",\"cabbage\",\"raddish\",\"chilly\",\"potato\"]\n",
        "print(len(veglist))"
      ],
      "execution_count": null,
      "outputs": [
        {
          "output_type": "stream",
          "name": "stdout",
          "text": [
            "5\n"
          ]
        }
      ]
    },
    {
      "cell_type": "code",
      "metadata": {
        "colab": {
          "base_uri": "https://localhost:8080/"
        },
        "id": "He5zESK5xvoA",
        "outputId": "ed467370-b6ec-4ae2-bcb4-225cf5531d8d"
      },
      "source": [
        "#item exist\n",
        "veglist=[\"tomato\",\"cabbage\",\"raddish\",\"chilly\",\"potato\"]\n",
        "key=input(\"enter a veg to search\")\n",
        "if key in veglist:\n",
        "  print(\"Yes,key is in the list\")\n",
        "else:\n",
        "  print(\"Key is not found in list\")"
      ],
      "execution_count": null,
      "outputs": [
        {
          "output_type": "stream",
          "name": "stdout",
          "text": [
            "enter a veg to searchcarrot\n",
            "Key is not found in list\n"
          ]
        }
      ]
    },
    {
      "cell_type": "code",
      "metadata": {
        "colab": {
          "base_uri": "https://localhost:8080/"
        },
        "id": "jkk-8QbxyU8O",
        "outputId": "c9a11faa-2a74-4a33-c6ce-e28ed1d33634"
      },
      "source": [
        "#adding at last\n",
        "veglist=[\"tomato\",\"cabbage\",\"raddish\",\"chilly\",\"potato\"]\n",
        "veglist.append(\"ladyfinger\")\n",
        "print(veglist)"
      ],
      "execution_count": null,
      "outputs": [
        {
          "output_type": "stream",
          "name": "stdout",
          "text": [
            "['tomato', 'cabbage', 'raddish', 'chilly', 'potato', 'ladyfinger']\n"
          ]
        }
      ]
    },
    {
      "cell_type": "code",
      "metadata": {
        "colab": {
          "base_uri": "https://localhost:8080/"
        },
        "id": "ZXjH7RJ6y1i-",
        "outputId": "dc2a6ae3-d543-4c08-c60a-d69b8547634c"
      },
      "source": [
        "#adding at middle\n",
        "veglist=[\"tomato\",\"cabbage\",\"raddish\",\"chilly\",\"potato\"]\n",
        "veglist.insert(2,\"beans\")\n",
        "print(veglist)"
      ],
      "execution_count": null,
      "outputs": [
        {
          "output_type": "stream",
          "name": "stdout",
          "text": [
            "['tomato', 'cabbage', 'beans', 'raddish', 'chilly', 'potato']\n"
          ]
        }
      ]
    },
    {
      "cell_type": "code",
      "metadata": {
        "colab": {
          "base_uri": "https://localhost:8080/"
        },
        "id": "AcSd2T2vzUEJ",
        "outputId": "aee2bceb-2c57-4a6e-db75-25c090f304e9"
      },
      "source": [
        "#remove an element\n",
        "veglist=[\"tomato\",\"cabbage\",\"raddish\",\"chilly\",\"potato\"]\n",
        "veglist.remove(\"chilly\")\n",
        "print(veglist)\n",
        "veglist.pop()\n",
        "print(veglist)\n",
        "del veglist[1]\n",
        "print(veglist)\n",
        "veglist.clear()\n",
        "print(veglist)"
      ],
      "execution_count": null,
      "outputs": [
        {
          "output_type": "stream",
          "name": "stdout",
          "text": [
            "['tomato', 'cabbage', 'raddish', 'potato']\n",
            "['tomato', 'cabbage', 'raddish']\n",
            "['tomato', 'raddish']\n",
            "[]\n"
          ]
        }
      ]
    },
    {
      "cell_type": "code",
      "metadata": {
        "colab": {
          "base_uri": "https://localhost:8080/"
        },
        "id": "3fi8dVYv0ouJ",
        "outputId": "292ea3e1-2983-4f83-e883-bb2205dcccff"
      },
      "source": [
        "#copy constructor\n",
        "veglist=[\"tomato\",\"cabbage\",\"raddish\",\"chilly\",\"potato\"]\n",
        "veglist1=list(veglist)\n",
        "print(veglist1)"
      ],
      "execution_count": null,
      "outputs": [
        {
          "output_type": "stream",
          "name": "stdout",
          "text": [
            "['tomato', 'cabbage', 'raddish', 'chilly', 'potato']\n"
          ]
        }
      ]
    },
    {
      "cell_type": "code",
      "metadata": {
        "colab": {
          "base_uri": "https://localhost:8080/"
        },
        "id": "0MS3HCP21KUu",
        "outputId": "a2ca0212-d10f-46d7-ebe6-f0659bd185f1"
      },
      "source": [
        "#copy method\n",
        "veglist=[\"tomato\",\"cabbage\",\"raddish\",\"chilly\",\"potato\"]\n",
        "veglist1=veglist.copy()\n",
        "print(veglist1)"
      ],
      "execution_count": null,
      "outputs": [
        {
          "output_type": "stream",
          "name": "stdout",
          "text": [
            "['tomato', 'cabbage', 'raddish', 'chilly', 'potato']\n"
          ]
        }
      ]
    },
    {
      "cell_type": "code",
      "metadata": {
        "colab": {
          "base_uri": "https://localhost:8080/"
        },
        "id": "EfJ5wwu01kXI",
        "outputId": "47333ea6-5955-43f7-f8e9-c4fa8d260cfa"
      },
      "source": [
        "#joining two list\n",
        "veglist=[\"tomato\",\"cabbage\",\"raddish\",\"chilly\",\"potato\"]\n",
        "veglist1=[\"carrot\",\"ladyfinger\",\"beans\"]\n",
        "veg_new=veglist1+veglist\n",
        "print(veg_new)\n",
        "for x in veglist:\n",
        "  veglist1.append(x)\n",
        "  print(veglist1)\n",
        "  veglist1.extend(veglist)\n",
        "  print(veglist)"
      ],
      "execution_count": null,
      "outputs": [
        {
          "output_type": "stream",
          "name": "stdout",
          "text": [
            "['carrot', 'ladyfinger', 'beans', 'tomato', 'cabbage', 'raddish', 'chilly', 'potato']\n",
            "['carrot', 'ladyfinger', 'beans', 'tomato']\n",
            "['tomato', 'cabbage', 'raddish', 'chilly', 'potato']\n",
            "['carrot', 'ladyfinger', 'beans', 'tomato', 'tomato', 'cabbage', 'raddish', 'chilly', 'potato', 'cabbage']\n",
            "['tomato', 'cabbage', 'raddish', 'chilly', 'potato']\n",
            "['carrot', 'ladyfinger', 'beans', 'tomato', 'tomato', 'cabbage', 'raddish', 'chilly', 'potato', 'cabbage', 'tomato', 'cabbage', 'raddish', 'chilly', 'potato', 'raddish']\n",
            "['tomato', 'cabbage', 'raddish', 'chilly', 'potato']\n",
            "['carrot', 'ladyfinger', 'beans', 'tomato', 'tomato', 'cabbage', 'raddish', 'chilly', 'potato', 'cabbage', 'tomato', 'cabbage', 'raddish', 'chilly', 'potato', 'raddish', 'tomato', 'cabbage', 'raddish', 'chilly', 'potato', 'chilly']\n",
            "['tomato', 'cabbage', 'raddish', 'chilly', 'potato']\n",
            "['carrot', 'ladyfinger', 'beans', 'tomato', 'tomato', 'cabbage', 'raddish', 'chilly', 'potato', 'cabbage', 'tomato', 'cabbage', 'raddish', 'chilly', 'potato', 'raddish', 'tomato', 'cabbage', 'raddish', 'chilly', 'potato', 'chilly', 'tomato', 'cabbage', 'raddish', 'chilly', 'potato', 'potato']\n",
            "['tomato', 'cabbage', 'raddish', 'chilly', 'potato']\n"
          ]
        }
      ]
    },
    {
      "cell_type": "code",
      "metadata": {
        "colab": {
          "base_uri": "https://localhost:8080/"
        },
        "id": "Kmcvnojt2Tnq",
        "outputId": "c8b2802b-69e5-4828-a61a-60754a351f7d"
      },
      "source": [
        "#list() constructor\n",
        "gameslist=list((\"football\",\"throwball\",\"volleyball\",\"kho-kho\",\"cricket\"))\n",
        "print(gameslist)\n",
        "gameslist.sort()\n",
        "print(gameslist)\n",
        "gameslist.reverse()\n",
        "print(gameslist)"
      ],
      "execution_count": null,
      "outputs": [
        {
          "output_type": "stream",
          "name": "stdout",
          "text": [
            "['football', 'throwball', 'volleyball', 'kho-kho', 'cricket']\n",
            "['cricket', 'football', 'kho-kho', 'throwball', 'volleyball']\n",
            "['volleyball', 'throwball', 'kho-kho', 'football', 'cricket']\n"
          ]
        }
      ]
    },
    {
      "cell_type": "code",
      "metadata": {
        "colab": {
          "base_uri": "https://localhost:8080/"
        },
        "id": "7xzyIZzS2_k_",
        "outputId": "c85fd71e-711b-457a-d546-d340020731f3"
      },
      "source": [
        "#list comprehension\n",
        "rno=[]\n",
        "for x in range(55):\n",
        " rno.append(x)\n",
        " print(rno)"
      ],
      "execution_count": null,
      "outputs": [
        {
          "output_type": "stream",
          "name": "stdout",
          "text": [
            "[0]\n",
            "[0, 1]\n",
            "[0, 1, 2]\n",
            "[0, 1, 2, 3]\n",
            "[0, 1, 2, 3, 4]\n",
            "[0, 1, 2, 3, 4, 5]\n",
            "[0, 1, 2, 3, 4, 5, 6]\n",
            "[0, 1, 2, 3, 4, 5, 6, 7]\n",
            "[0, 1, 2, 3, 4, 5, 6, 7, 8]\n",
            "[0, 1, 2, 3, 4, 5, 6, 7, 8, 9]\n",
            "[0, 1, 2, 3, 4, 5, 6, 7, 8, 9, 10]\n",
            "[0, 1, 2, 3, 4, 5, 6, 7, 8, 9, 10, 11]\n",
            "[0, 1, 2, 3, 4, 5, 6, 7, 8, 9, 10, 11, 12]\n",
            "[0, 1, 2, 3, 4, 5, 6, 7, 8, 9, 10, 11, 12, 13]\n",
            "[0, 1, 2, 3, 4, 5, 6, 7, 8, 9, 10, 11, 12, 13, 14]\n",
            "[0, 1, 2, 3, 4, 5, 6, 7, 8, 9, 10, 11, 12, 13, 14, 15]\n",
            "[0, 1, 2, 3, 4, 5, 6, 7, 8, 9, 10, 11, 12, 13, 14, 15, 16]\n",
            "[0, 1, 2, 3, 4, 5, 6, 7, 8, 9, 10, 11, 12, 13, 14, 15, 16, 17]\n",
            "[0, 1, 2, 3, 4, 5, 6, 7, 8, 9, 10, 11, 12, 13, 14, 15, 16, 17, 18]\n",
            "[0, 1, 2, 3, 4, 5, 6, 7, 8, 9, 10, 11, 12, 13, 14, 15, 16, 17, 18, 19]\n",
            "[0, 1, 2, 3, 4, 5, 6, 7, 8, 9, 10, 11, 12, 13, 14, 15, 16, 17, 18, 19, 20]\n",
            "[0, 1, 2, 3, 4, 5, 6, 7, 8, 9, 10, 11, 12, 13, 14, 15, 16, 17, 18, 19, 20, 21]\n",
            "[0, 1, 2, 3, 4, 5, 6, 7, 8, 9, 10, 11, 12, 13, 14, 15, 16, 17, 18, 19, 20, 21, 22]\n",
            "[0, 1, 2, 3, 4, 5, 6, 7, 8, 9, 10, 11, 12, 13, 14, 15, 16, 17, 18, 19, 20, 21, 22, 23]\n",
            "[0, 1, 2, 3, 4, 5, 6, 7, 8, 9, 10, 11, 12, 13, 14, 15, 16, 17, 18, 19, 20, 21, 22, 23, 24]\n",
            "[0, 1, 2, 3, 4, 5, 6, 7, 8, 9, 10, 11, 12, 13, 14, 15, 16, 17, 18, 19, 20, 21, 22, 23, 24, 25]\n",
            "[0, 1, 2, 3, 4, 5, 6, 7, 8, 9, 10, 11, 12, 13, 14, 15, 16, 17, 18, 19, 20, 21, 22, 23, 24, 25, 26]\n",
            "[0, 1, 2, 3, 4, 5, 6, 7, 8, 9, 10, 11, 12, 13, 14, 15, 16, 17, 18, 19, 20, 21, 22, 23, 24, 25, 26, 27]\n",
            "[0, 1, 2, 3, 4, 5, 6, 7, 8, 9, 10, 11, 12, 13, 14, 15, 16, 17, 18, 19, 20, 21, 22, 23, 24, 25, 26, 27, 28]\n",
            "[0, 1, 2, 3, 4, 5, 6, 7, 8, 9, 10, 11, 12, 13, 14, 15, 16, 17, 18, 19, 20, 21, 22, 23, 24, 25, 26, 27, 28, 29]\n",
            "[0, 1, 2, 3, 4, 5, 6, 7, 8, 9, 10, 11, 12, 13, 14, 15, 16, 17, 18, 19, 20, 21, 22, 23, 24, 25, 26, 27, 28, 29, 30]\n",
            "[0, 1, 2, 3, 4, 5, 6, 7, 8, 9, 10, 11, 12, 13, 14, 15, 16, 17, 18, 19, 20, 21, 22, 23, 24, 25, 26, 27, 28, 29, 30, 31]\n",
            "[0, 1, 2, 3, 4, 5, 6, 7, 8, 9, 10, 11, 12, 13, 14, 15, 16, 17, 18, 19, 20, 21, 22, 23, 24, 25, 26, 27, 28, 29, 30, 31, 32]\n",
            "[0, 1, 2, 3, 4, 5, 6, 7, 8, 9, 10, 11, 12, 13, 14, 15, 16, 17, 18, 19, 20, 21, 22, 23, 24, 25, 26, 27, 28, 29, 30, 31, 32, 33]\n",
            "[0, 1, 2, 3, 4, 5, 6, 7, 8, 9, 10, 11, 12, 13, 14, 15, 16, 17, 18, 19, 20, 21, 22, 23, 24, 25, 26, 27, 28, 29, 30, 31, 32, 33, 34]\n",
            "[0, 1, 2, 3, 4, 5, 6, 7, 8, 9, 10, 11, 12, 13, 14, 15, 16, 17, 18, 19, 20, 21, 22, 23, 24, 25, 26, 27, 28, 29, 30, 31, 32, 33, 34, 35]\n",
            "[0, 1, 2, 3, 4, 5, 6, 7, 8, 9, 10, 11, 12, 13, 14, 15, 16, 17, 18, 19, 20, 21, 22, 23, 24, 25, 26, 27, 28, 29, 30, 31, 32, 33, 34, 35, 36]\n",
            "[0, 1, 2, 3, 4, 5, 6, 7, 8, 9, 10, 11, 12, 13, 14, 15, 16, 17, 18, 19, 20, 21, 22, 23, 24, 25, 26, 27, 28, 29, 30, 31, 32, 33, 34, 35, 36, 37]\n",
            "[0, 1, 2, 3, 4, 5, 6, 7, 8, 9, 10, 11, 12, 13, 14, 15, 16, 17, 18, 19, 20, 21, 22, 23, 24, 25, 26, 27, 28, 29, 30, 31, 32, 33, 34, 35, 36, 37, 38]\n",
            "[0, 1, 2, 3, 4, 5, 6, 7, 8, 9, 10, 11, 12, 13, 14, 15, 16, 17, 18, 19, 20, 21, 22, 23, 24, 25, 26, 27, 28, 29, 30, 31, 32, 33, 34, 35, 36, 37, 38, 39]\n",
            "[0, 1, 2, 3, 4, 5, 6, 7, 8, 9, 10, 11, 12, 13, 14, 15, 16, 17, 18, 19, 20, 21, 22, 23, 24, 25, 26, 27, 28, 29, 30, 31, 32, 33, 34, 35, 36, 37, 38, 39, 40]\n",
            "[0, 1, 2, 3, 4, 5, 6, 7, 8, 9, 10, 11, 12, 13, 14, 15, 16, 17, 18, 19, 20, 21, 22, 23, 24, 25, 26, 27, 28, 29, 30, 31, 32, 33, 34, 35, 36, 37, 38, 39, 40, 41]\n",
            "[0, 1, 2, 3, 4, 5, 6, 7, 8, 9, 10, 11, 12, 13, 14, 15, 16, 17, 18, 19, 20, 21, 22, 23, 24, 25, 26, 27, 28, 29, 30, 31, 32, 33, 34, 35, 36, 37, 38, 39, 40, 41, 42]\n",
            "[0, 1, 2, 3, 4, 5, 6, 7, 8, 9, 10, 11, 12, 13, 14, 15, 16, 17, 18, 19, 20, 21, 22, 23, 24, 25, 26, 27, 28, 29, 30, 31, 32, 33, 34, 35, 36, 37, 38, 39, 40, 41, 42, 43]\n",
            "[0, 1, 2, 3, 4, 5, 6, 7, 8, 9, 10, 11, 12, 13, 14, 15, 16, 17, 18, 19, 20, 21, 22, 23, 24, 25, 26, 27, 28, 29, 30, 31, 32, 33, 34, 35, 36, 37, 38, 39, 40, 41, 42, 43, 44]\n",
            "[0, 1, 2, 3, 4, 5, 6, 7, 8, 9, 10, 11, 12, 13, 14, 15, 16, 17, 18, 19, 20, 21, 22, 23, 24, 25, 26, 27, 28, 29, 30, 31, 32, 33, 34, 35, 36, 37, 38, 39, 40, 41, 42, 43, 44, 45]\n",
            "[0, 1, 2, 3, 4, 5, 6, 7, 8, 9, 10, 11, 12, 13, 14, 15, 16, 17, 18, 19, 20, 21, 22, 23, 24, 25, 26, 27, 28, 29, 30, 31, 32, 33, 34, 35, 36, 37, 38, 39, 40, 41, 42, 43, 44, 45, 46]\n",
            "[0, 1, 2, 3, 4, 5, 6, 7, 8, 9, 10, 11, 12, 13, 14, 15, 16, 17, 18, 19, 20, 21, 22, 23, 24, 25, 26, 27, 28, 29, 30, 31, 32, 33, 34, 35, 36, 37, 38, 39, 40, 41, 42, 43, 44, 45, 46, 47]\n",
            "[0, 1, 2, 3, 4, 5, 6, 7, 8, 9, 10, 11, 12, 13, 14, 15, 16, 17, 18, 19, 20, 21, 22, 23, 24, 25, 26, 27, 28, 29, 30, 31, 32, 33, 34, 35, 36, 37, 38, 39, 40, 41, 42, 43, 44, 45, 46, 47, 48]\n",
            "[0, 1, 2, 3, 4, 5, 6, 7, 8, 9, 10, 11, 12, 13, 14, 15, 16, 17, 18, 19, 20, 21, 22, 23, 24, 25, 26, 27, 28, 29, 30, 31, 32, 33, 34, 35, 36, 37, 38, 39, 40, 41, 42, 43, 44, 45, 46, 47, 48, 49]\n",
            "[0, 1, 2, 3, 4, 5, 6, 7, 8, 9, 10, 11, 12, 13, 14, 15, 16, 17, 18, 19, 20, 21, 22, 23, 24, 25, 26, 27, 28, 29, 30, 31, 32, 33, 34, 35, 36, 37, 38, 39, 40, 41, 42, 43, 44, 45, 46, 47, 48, 49, 50]\n",
            "[0, 1, 2, 3, 4, 5, 6, 7, 8, 9, 10, 11, 12, 13, 14, 15, 16, 17, 18, 19, 20, 21, 22, 23, 24, 25, 26, 27, 28, 29, 30, 31, 32, 33, 34, 35, 36, 37, 38, 39, 40, 41, 42, 43, 44, 45, 46, 47, 48, 49, 50, 51]\n",
            "[0, 1, 2, 3, 4, 5, 6, 7, 8, 9, 10, 11, 12, 13, 14, 15, 16, 17, 18, 19, 20, 21, 22, 23, 24, 25, 26, 27, 28, 29, 30, 31, 32, 33, 34, 35, 36, 37, 38, 39, 40, 41, 42, 43, 44, 45, 46, 47, 48, 49, 50, 51, 52]\n",
            "[0, 1, 2, 3, 4, 5, 6, 7, 8, 9, 10, 11, 12, 13, 14, 15, 16, 17, 18, 19, 20, 21, 22, 23, 24, 25, 26, 27, 28, 29, 30, 31, 32, 33, 34, 35, 36, 37, 38, 39, 40, 41, 42, 43, 44, 45, 46, 47, 48, 49, 50, 51, 52, 53]\n",
            "[0, 1, 2, 3, 4, 5, 6, 7, 8, 9, 10, 11, 12, 13, 14, 15, 16, 17, 18, 19, 20, 21, 22, 23, 24, 25, 26, 27, 28, 29, 30, 31, 32, 33, 34, 35, 36, 37, 38, 39, 40, 41, 42, 43, 44, 45, 46, 47, 48, 49, 50, 51, 52, 53, 54]\n"
          ]
        }
      ]
    },
    {
      "cell_type": "code",
      "metadata": {
        "colab": {
          "base_uri": "https://localhost:8080/"
        },
        "id": "C5upkifG5DXT",
        "outputId": "4c9f77a4-cd13-4ecb-d0f6-16facfb7031c"
      },
      "source": [
        "#count the number of vowels in string\n",
        "string=input(\"string\")\n",
        "vowels=0\n",
        "for i in string:\n",
        "  if (i=='a' or i=='A' or i=='e' or i=='E' or i=='i' or i=='I' or i=='o' or i=='O' or i=='u' or i=='U'):\n",
        "    vowels=vowels+1\n",
        "    print(\"number of vowels are:\")\n",
        "    print(vowels)\n"
      ],
      "execution_count": null,
      "outputs": [
        {
          "output_type": "stream",
          "name": "stdout",
          "text": [
            "stringstudent\n",
            "number of vowels are:\n",
            "1\n",
            "number of vowels are:\n",
            "2\n"
          ]
        }
      ]
    },
    {
      "cell_type": "code",
      "metadata": {
        "colab": {
          "base_uri": "https://localhost:8080/"
        },
        "id": "JHyG03oX9jLR",
        "outputId": "9e45ad25-4881-4e46-8052-3ad146ea10ac"
      },
      "source": [
        "#replace the occurance\n",
        "string=input(\"enter the string\")\n",
        "string=string.replace('a','$')\n",
        "string=string.replace('A','$')\n",
        "print(string)"
      ],
      "execution_count": null,
      "outputs": [
        {
          "output_type": "stream",
          "name": "stdout",
          "text": [
            "enter the stringjava\n",
            "j$v$\n"
          ]
        }
      ]
    },
    {
      "cell_type": "code",
      "metadata": {
        "colab": {
          "base_uri": "https://localhost:8080/"
        },
        "id": "QBO3zxlT-miP",
        "outputId": "e3e3d8a2-0121-486f-bf3e-122cf51983ad"
      },
      "source": [
        "#adding two numbers\n",
        "n1=int(input(\"enter string\"))\n",
        "n2=int(input(\"enter string\"))\n",
        "n=n1+n2\n",
        "print(\"sum of {0} and {1} is {2}\".format(n1,n2,n))"
      ],
      "execution_count": null,
      "outputs": [
        {
          "output_type": "stream",
          "name": "stdout",
          "text": [
            "enter string6\n",
            "enter string6\n",
            "sum of 6 and 6 is 12\n"
          ]
        }
      ]
    },
    {
      "cell_type": "code",
      "metadata": {
        "colab": {
          "base_uri": "https://localhost:8080/"
        },
        "id": "Y4csslQ_DL24",
        "outputId": "34bcdbd3-b5f8-4427-aca2-1653c0b2e7dd"
      },
      "source": [
        "#convert kilometer to miles\n",
        "kilo=int(input(\"enter the kilo\"))\n",
        "miles=kilo*0.62\n",
        "print(miles)"
      ],
      "execution_count": null,
      "outputs": [
        {
          "output_type": "stream",
          "name": "stdout",
          "text": [
            "enter the kilo20\n",
            "12.4\n"
          ]
        }
      ]
    },
    {
      "cell_type": "code",
      "metadata": {
        "colab": {
          "base_uri": "https://localhost:8080/",
          "height": 128
        },
        "id": "eKPPNcEADqvD",
        "outputId": "56cde178-6375-4934-81a8-62e6ffc00c86"
      },
      "source": [
        "#random numbers\n",
        "import randint(0,9)\n",
        "print(random.randint(0,9))"
      ],
      "execution_count": null,
      "outputs": [
        {
          "output_type": "error",
          "ename": "SyntaxError",
          "evalue": "ignored",
          "traceback": [
            "\u001b[0;36m  File \u001b[0;32m\"<ipython-input-77-ef293285ac14>\"\u001b[0;36m, line \u001b[0;32m2\u001b[0m\n\u001b[0;31m    import randint(0,9)\u001b[0m\n\u001b[0m                  ^\u001b[0m\n\u001b[0;31mSyntaxError\u001b[0m\u001b[0;31m:\u001b[0m invalid syntax\n"
          ]
        }
      ]
    },
    {
      "cell_type": "code",
      "metadata": {
        "colab": {
          "base_uri": "https://localhost:8080/",
          "height": 128
        },
        "id": "GLuKmjbiE6z8",
        "outputId": "364cc25b-af7e-4eef-c5d9-85bd39c340f4"
      },
      "source": [
        "#first and last character are exchanged\n",
        "del change(string)\n",
        "return string[-1:] + string[1:-1] + string[:1]\n",
        "string=input(\"Enter string:\")\n",
        "print(\"Modified string:\")\n",
        "print(change(string))"
      ],
      "execution_count": 2,
      "outputs": [
        {
          "output_type": "error",
          "ename": "SyntaxError",
          "evalue": "ignored",
          "traceback": [
            "\u001b[0;36m  File \u001b[0;32m\"<ipython-input-2-df6916f2e541>\"\u001b[0;36m, line \u001b[0;32m2\u001b[0m\n\u001b[0;31m    del change(string)\u001b[0m\n\u001b[0m       ^\u001b[0m\n\u001b[0;31mSyntaxError\u001b[0m\u001b[0;31m:\u001b[0m can't delete function call\n"
          ]
        }
      ]
    },
    {
      "cell_type": "code",
      "metadata": {
        "colab": {
          "base_uri": "https://localhost:8080/"
        },
        "id": "Ed2b2l-Ie8Rx",
        "outputId": "d407e08b-7076-4e10-c9f5-65938076312e"
      },
      "source": [
        "#leap year or not\n",
        "year=int(input(\"enter a year\"))\n",
        "if((year % 400 == 0) or (year % 100 == 0) and (year % 4 == 0)):\n",
        " print(\"{0} is a leap year\".format(year))\n",
        "else:\n",
        "  print(\"{0} is  not leap year\".format(year))"
      ],
      "execution_count": 19,
      "outputs": [
        {
          "output_type": "stream",
          "name": "stdout",
          "text": [
            "enter a year2000\n",
            "2000 is a leap year\n"
          ]
        }
      ]
    },
    {
      "cell_type": "code",
      "metadata": {
        "colab": {
          "base_uri": "https://localhost:8080/"
        },
        "id": "xSmGLRZ_gb6W",
        "outputId": "a2a24437-b758-4153-e000-2927b4505fb6"
      },
      "source": [
        "#find compound interest\n",
        "p=float(input(\"enter principal amount\"))\n",
        "n=float(input(\"enter a total number\"))\n",
        "r=float(input(\"enter rate of interest\"))\n",
        "ci=p*(pow((1+n+r/100),n))\n",
        "print(\"compound interest:{}\".format(ci))"
      ],
      "execution_count": 9,
      "outputs": [
        {
          "output_type": "stream",
          "name": "stdout",
          "text": [
            "enter principal amount5.5\n",
            "enter a total number5.5\n",
            "enter rate of interest5.5\n",
            "compound interest:170416.84377288172\n"
          ]
        }
      ]
    },
    {
      "cell_type": "code",
      "metadata": {
        "colab": {
          "base_uri": "https://localhost:8080/"
        },
        "id": "pMxVLy2VhVKh",
        "outputId": "2f53a429-8f48-4c15-c700-7403ac7a3c59"
      },
      "source": [
        "#greatest of 3\n",
        "n1=int(input())\n",
        "n2=int(input())\n",
        "n3=int(input())\n",
        "print(max(n1,n2,n3),\"is a greatest\")"
      ],
      "execution_count": 10,
      "outputs": [
        {
          "output_type": "stream",
          "name": "stdout",
          "text": [
            "2\n",
            "3\n",
            "5\n",
            "5 is a greatest\n"
          ]
        }
      ]
    },
    {
      "cell_type": "code",
      "metadata": {
        "colab": {
          "base_uri": "https://localhost:8080/"
        },
        "id": "SzDPUmuPhuVE",
        "outputId": "dc90f32f-ae34-434e-e5ba-5b227a618fd4"
      },
      "source": [
        "#odd or even\n",
        "num=int(input(\"enter a number\"))\n",
        "if((num%2)==0):\n",
        "  print(\"{0} is even\".format(num))\n",
        "else:\n",
        "  print(\"{0} is odd\".format(num))"
      ],
      "execution_count": 25,
      "outputs": [
        {
          "output_type": "stream",
          "name": "stdout",
          "text": [
            "enter a number3\n",
            "3 is odd\n"
          ]
        }
      ]
    },
    {
      "cell_type": "code",
      "metadata": {
        "colab": {
          "base_uri": "https://localhost:8080/"
        },
        "id": "AlbmefjZkYka",
        "outputId": "81125595-ec8b-415b-f909-be2a6fefc3d3"
      },
      "source": [
        "#find length of string without using length()\n",
        "string=(input(\"enter a string\"))\n",
        "count=0\n",
        "for i in string:\n",
        "  count=count+1\n",
        "  print(\"length of a string\",count)"
      ],
      "execution_count": 28,
      "outputs": [
        {
          "output_type": "stream",
          "name": "stdout",
          "text": [
            "enter a stringpython\n",
            "length of a string 1\n",
            "length of a string 2\n",
            "length of a string 3\n",
            "length of a string 4\n",
            "length of a string 5\n",
            "length of a string 6\n"
          ]
        }
      ]
    }
  ]
}