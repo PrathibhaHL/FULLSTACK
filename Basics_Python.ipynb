{
  "nbformat": 4,
  "nbformat_minor": 0,
  "metadata": {
    "colab": {
      "name": "Basics-Python.ipynb",
      "provenance": [],
      "collapsed_sections": [],
      "authorship_tag": "ABX9TyMQqmKPGvdZmZm3wGddaruv",
      "include_colab_link": true
    },
    "kernelspec": {
      "name": "python3",
      "display_name": "Python 3"
    },
    "language_info": {
      "name": "python"
    }
  },
  "cells": [
    {
      "cell_type": "markdown",
      "metadata": {
        "id": "view-in-github",
        "colab_type": "text"
      },
      "source": [
        "<a href=\"https://colab.research.google.com/github/PrathibhaHL/FULLSTACK/blob/main/Basics_Python.ipynb\" target=\"_parent\"><img src=\"https://colab.research.google.com/assets/colab-badge.svg\" alt=\"Open In Colab\"/></a>"
      ]
    },
    {
      "cell_type": "code",
      "metadata": {
        "colab": {
          "base_uri": "https://localhost:8080/"
        },
        "id": "AlqDQJJXe3Sb",
        "outputId": "8c23db11-0928-4f2f-97fd-f560074826f4"
      },
      "source": [
        "fname=\"PARKAVI\"\n",
        "fac_no=525\n",
        "height=5.2\n",
        "print(fname,fac_no,height)"
      ],
      "execution_count": null,
      "outputs": [
        {
          "output_type": "stream",
          "name": "stdout",
          "text": [
            "PARKAVI 525 5.2\n"
          ]
        }
      ]
    },
    {
      "cell_type": "code",
      "metadata": {
        "colab": {
          "base_uri": "https://localhost:8080/"
        },
        "id": "HUiUBjuDg1Xl",
        "outputId": "e2071310-f9af-419e-8f62-8aed3a51d0f3"
      },
      "source": [
        "cname=input(\"Please enter your college name\")\n",
        "print(cname)"
      ],
      "execution_count": null,
      "outputs": [
        {
          "output_type": "stream",
          "name": "stdout",
          "text": [
            "Please enter your college namekalpataru institute of technology\n",
            "kalpataru institute of technology\n"
          ]
        }
      ]
    },
    {
      "cell_type": "code",
      "metadata": {
        "colab": {
          "base_uri": "https://localhost:8080/"
        },
        "id": "qMhfBI7MhS1A",
        "outputId": "1b97a61f-d06d-4160-ab72-f93d743602da"
      },
      "source": [
        "print(-2)\n",
        "print(2/2)\n",
        "print(3//3)\n",
        "print(2+3)\n",
        "print(2-3)\n",
        "print(2/3)\n",
        "print(2%3)\n",
        "print(2**2)"
      ],
      "execution_count": null,
      "outputs": [
        {
          "output_type": "stream",
          "name": "stdout",
          "text": [
            "-2\n",
            "1.0\n",
            "1\n",
            "5\n",
            "-1\n",
            "0.6666666666666666\n",
            "2\n",
            "4\n"
          ]
        }
      ]
    },
    {
      "cell_type": "code",
      "metadata": {
        "colab": {
          "base_uri": "https://localhost:8080/"
        },
        "id": "QCj7FeWLh5OS",
        "outputId": "4c942101-12ce-4061-a209-cf58c1fca01f"
      },
      "source": [
        "print(5==4)\n",
        "print(2==2)\n",
        "print(\"msr\"=='ms')\n",
        "print(\"msr\"=='msr')"
      ],
      "execution_count": null,
      "outputs": [
        {
          "output_type": "stream",
          "name": "stdout",
          "text": [
            "False\n",
            "True\n",
            "False\n",
            "True\n"
          ]
        }
      ]
    },
    {
      "cell_type": "code",
      "metadata": {
        "colab": {
          "base_uri": "https://localhost:8080/"
        },
        "id": "w2ywCpq-iUEg",
        "outputId": "1c994019-812a-45cd-a66c-0525e5a5fb56"
      },
      "source": [
        "marks=int(input(\"Please enter your marks\"))\n",
        "if marks>39 and marks<50:\n",
        "  print(\"E grade\")\n",
        "elif marks>49 and marks<60:\n",
        "  print(\"D grade\")\n",
        "elif marks>59 and marks<70:\n",
        "  print(\"C grade\")\n",
        "else:\n",
        "  print(\"Pass\")"
      ],
      "execution_count": null,
      "outputs": [
        {
          "output_type": "stream",
          "name": "stdout",
          "text": [
            "Please enter your marks85\n",
            "Pass\n"
          ]
        }
      ]
    },
    {
      "cell_type": "code",
      "metadata": {
        "colab": {
          "base_uri": "https://localhost:8080/"
        },
        "id": "S8JGjwN7kedg",
        "outputId": "e8d0f783-99bc-43c6-9a24-b1cffeb1a390"
      },
      "source": [
        "n=int(input(\"enter a number value to find factorial of it\"))\n",
        "fact=1\n",
        "i=1\n",
        "while i<=n:\n",
        "  fact=fact*i\n",
        "  i+=1\n",
        "  print(fact)"
      ],
      "execution_count": null,
      "outputs": [
        {
          "output_type": "stream",
          "name": "stdout",
          "text": [
            "enter a number value to find factorial of it5\n",
            "1\n",
            "2\n",
            "6\n",
            "24\n",
            "120\n"
          ]
        }
      ]
    },
    {
      "cell_type": "code",
      "metadata": {
        "colab": {
          "base_uri": "https://localhost:8080/"
        },
        "id": "jns2HADzlCmp",
        "outputId": "6b43dcaa-f5b0-4dbe-8f5e-7491953a71ca"
      },
      "source": [
        "cnames=[\"msrit\",\"hkbk\",\"bms\"]\n",
        "key=input(\"enter college name\")\n",
        "flag=0\n",
        "for x in cnames:\n",
        "  if key==x:\n",
        "    print(\"key is found in list\")\n",
        "    flag=1\n",
        "    break\n",
        "  else:\n",
        "      continue\n",
        "      if flag==0:\n",
        "        print(\"key not found\")"
      ],
      "execution_count": null,
      "outputs": [
        {
          "output_type": "stream",
          "name": "stdout",
          "text": [
            "enter college namemsrit\n",
            "key is found in list\n"
          ]
        }
      ]
    },
    {
      "cell_type": "code",
      "metadata": {
        "id": "xMMRHoMamF0G"
      },
      "source": [
        ""
      ],
      "execution_count": null,
      "outputs": []
    },
    {
      "cell_type": "code",
      "metadata": {
        "colab": {
          "base_uri": "https://localhost:8080/"
        },
        "id": "1SmpmrL1mI_v",
        "outputId": "1b8736a3-5bb0-46ca-baf1-5739b4856346"
      },
      "source": [
        "for x in range(55):\n",
        "  print(x)\n",
        "for i in range (10,20):\n",
        "  print(i)\n",
        "for x in range(0,20,5):\n",
        "  print(x)"
      ],
      "execution_count": null,
      "outputs": [
        {
          "output_type": "stream",
          "name": "stdout",
          "text": [
            "0\n",
            "1\n",
            "2\n",
            "3\n",
            "4\n",
            "5\n",
            "6\n",
            "7\n",
            "8\n",
            "9\n",
            "10\n",
            "11\n",
            "12\n",
            "13\n",
            "14\n",
            "15\n",
            "16\n",
            "17\n",
            "18\n",
            "19\n",
            "20\n",
            "21\n",
            "22\n",
            "23\n",
            "24\n",
            "25\n",
            "26\n",
            "27\n",
            "28\n",
            "29\n",
            "30\n",
            "31\n",
            "32\n",
            "33\n",
            "34\n",
            "35\n",
            "36\n",
            "37\n",
            "38\n",
            "39\n",
            "40\n",
            "41\n",
            "42\n",
            "43\n",
            "44\n",
            "45\n",
            "46\n",
            "47\n",
            "48\n",
            "49\n",
            "50\n",
            "51\n",
            "52\n",
            "53\n",
            "54\n",
            "10\n",
            "11\n",
            "12\n",
            "13\n",
            "14\n",
            "15\n",
            "16\n",
            "17\n",
            "18\n",
            "19\n",
            "0\n",
            "5\n",
            "10\n",
            "15\n"
          ]
        }
      ]
    },
    {
      "cell_type": "code",
      "metadata": {
        "colab": {
          "base_uri": "https://localhost:8080/"
        },
        "id": "Wt2mnIZRmznn",
        "outputId": "7f95ab7f-dcf8-498f-cf1c-8bfab49fb423"
      },
      "source": [
        "sub=[\"Data structure\",\"oops\",\"DMS\"]\n",
        "stud=[\"Nithilan\",\"Harini\",\"Anjani\"]\n",
        "print(\"stud name\",\"sub name\")\n",
        "for x in stud:\n",
        "  for y in sub:\n",
        "    print(x,y)"
      ],
      "execution_count": null,
      "outputs": [
        {
          "output_type": "stream",
          "name": "stdout",
          "text": [
            "stud name sub name\n",
            "Nithilan Data structure\n",
            "Nithilan oops\n",
            "Nithilan DMS\n",
            "Harini Data structure\n",
            "Harini oops\n",
            "Harini DMS\n",
            "Anjani Data structure\n",
            "Anjani oops\n",
            "Anjani DMS\n"
          ]
        }
      ]
    }
  ]
}