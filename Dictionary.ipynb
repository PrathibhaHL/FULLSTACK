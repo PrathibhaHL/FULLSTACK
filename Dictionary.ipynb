{
  "nbformat": 4,
  "nbformat_minor": 0,
  "metadata": {
    "colab": {
      "name": "Dictionary.ipynb",
      "provenance": [],
      "collapsed_sections": [],
      "authorship_tag": "ABX9TyNDEslP/jaO6NGubVB1t89c",
      "include_colab_link": true
    },
    "kernelspec": {
      "name": "python3",
      "display_name": "Python 3"
    },
    "language_info": {
      "name": "python"
    }
  },
  "cells": [
    {
      "cell_type": "markdown",
      "metadata": {
        "id": "view-in-github",
        "colab_type": "text"
      },
      "source": [
        "<a href=\"https://colab.research.google.com/github/PrathibhaHL/FULLSTACK/blob/main/Dictionary.ipynb\" target=\"_parent\"><img src=\"https://colab.research.google.com/assets/colab-badge.svg\" alt=\"Open In Colab\"/></a>"
      ]
    },
    {
      "cell_type": "code",
      "metadata": {
        "colab": {
          "base_uri": "https://localhost:8080/"
        },
        "id": "fo-3lQ-jBsPx",
        "outputId": "0fe7883d-2c66-42bc-8236-3b2748b9320c"
      },
      "source": [
        "#creating a dictionary\n",
        "empdict={\n",
        "    \"name\":\"lochan\",\n",
        "    \"id\":\"4647\",\n",
        "    \"company\":\"wipro\"\n",
        "}\n",
        "print(empdict[\"id\"])\n",
        "print(empdict.get(\"id\"))"
      ],
      "execution_count": null,
      "outputs": [
        {
          "output_type": "stream",
          "name": "stdout",
          "text": [
            "4647\n",
            "4647\n"
          ]
        }
      ]
    },
    {
      "cell_type": "code",
      "metadata": {
        "colab": {
          "base_uri": "https://localhost:8080/"
        },
        "id": "Ri8GMmZDC4Xf",
        "outputId": "34052325-3603-4d22-9422-223f53747a7d"
      },
      "source": [
        "#accessing the value\n",
        "daily_temps={\"sun\":\"68.8\",\"mon\":\"70.2\",\"tue\":\"67.2\",\"wed\":\"71.2\"}\n",
        "value=daily_temps[\"sun\"]\n",
        "print(value)"
      ],
      "execution_count": null,
      "outputs": [
        {
          "output_type": "stream",
          "name": "stdout",
          "text": [
            "68.8\n"
          ]
        }
      ]
    },
    {
      "cell_type": "code",
      "metadata": {
        "colab": {
          "base_uri": "https://localhost:8080/"
        },
        "id": "VgzA1MKeDVJW",
        "outputId": "5225dbad-5b1d-4fb3-a4a8-eadb9279e85d"
      },
      "source": [
        "#changing the value\n",
        "empdict={\n",
        "    \"name\":\"lochan\",\n",
        "    \"id\":\"4647\",\n",
        "    \"company\":\"wipro\"\n",
        "}\n",
        "empdict[\"id\"]=\"4438\"\n",
        "print(empdict[\"id\"])"
      ],
      "execution_count": null,
      "outputs": [
        {
          "output_type": "stream",
          "name": "stdout",
          "text": [
            "4438\n"
          ]
        }
      ]
    },
    {
      "cell_type": "code",
      "metadata": {
        "colab": {
          "base_uri": "https://localhost:8080/"
        },
        "id": "gWPb8SIsDxt2",
        "outputId": "1ede180c-437e-4661-801b-312a0733d9ae"
      },
      "source": [
        "#loop to print key\n",
        "empdict={\n",
        "    \"name\":\"lochan\",\n",
        "    \"id\":\"4647\",\n",
        "    \"company\":\"wipro\"\n",
        "}\n",
        "for x in empdict:\n",
        "  print(x)"
      ],
      "execution_count": null,
      "outputs": [
        {
          "output_type": "stream",
          "name": "stdout",
          "text": [
            "name\n",
            "id\n",
            "company\n"
          ]
        }
      ]
    },
    {
      "cell_type": "code",
      "metadata": {
        "colab": {
          "base_uri": "https://localhost:8080/"
        },
        "id": "Du4vhrdLEISc",
        "outputId": "af2c2a8f-42f5-4912-de54-ad77aca8d569"
      },
      "source": [
        "#loop to print values of key\n",
        "empdict={\n",
        "    \"name\":\"lochan\",\n",
        "    \"id\":\"4647\",\n",
        "    \"company\":\"wipro\"\n",
        "}\n",
        "for x in empdict:\n",
        "  print(empdict[x])"
      ],
      "execution_count": null,
      "outputs": [
        {
          "output_type": "stream",
          "name": "stdout",
          "text": [
            "lochan\n",
            "4647\n",
            "wipro\n"
          ]
        }
      ]
    },
    {
      "cell_type": "code",
      "metadata": {
        "colab": {
          "base_uri": "https://localhost:8080/"
        },
        "id": "kqBr32KfEctW",
        "outputId": "a1487895-4c58-4314-f0b3-022fd16c1d38"
      },
      "source": [
        "#value() method\n",
        "empdict={\n",
        "    \"name\":\"lochan\",\n",
        "    \"id\":\"4647\",\n",
        "    \"company\":\"wipro\"\n",
        "}\n",
        "for x in empdict.values():\n",
        "  print(x)"
      ],
      "execution_count": null,
      "outputs": [
        {
          "output_type": "stream",
          "name": "stdout",
          "text": [
            "lochan\n",
            "4647\n",
            "wipro\n"
          ]
        }
      ]
    },
    {
      "cell_type": "code",
      "metadata": {
        "colab": {
          "base_uri": "https://localhost:8080/"
        },
        "id": "3f3lkCOhExeJ",
        "outputId": "679c9d59-03c5-4f78-d7cf-8bf4cbeca023"
      },
      "source": [
        "#items() method\n",
        "empdict={\n",
        "    \"name\":\"lochan\",\n",
        "    \"id\":\"4647\",\n",
        "    \"company\":\"wipro\"\n",
        "}\n",
        "for x,y in empdict.items():\n",
        "  print(x,y)"
      ],
      "execution_count": null,
      "outputs": [
        {
          "output_type": "stream",
          "name": "stdout",
          "text": [
            "name lochan\n",
            "id 4647\n",
            "company wipro\n"
          ]
        }
      ]
    },
    {
      "cell_type": "code",
      "metadata": {
        "colab": {
          "base_uri": "https://localhost:8080/"
        },
        "id": "rKsFE_PEFFRF",
        "outputId": "2501f61b-2dc6-4e95-a724-4d4f8e48642d"
      },
      "source": [
        "#check if key exist\n",
        "empdict={\n",
        "    \"name\":\"lochan\",\n",
        "    \"id\":\"4647\",\n",
        "    \"company\":\"wipro\"\n",
        "}\n",
        "if \"company\" in empdict:\n",
        "  print(\"Yes,company is one of the keys in empdict dictionary\")"
      ],
      "execution_count": null,
      "outputs": [
        {
          "output_type": "stream",
          "name": "stdout",
          "text": [
            "Yes,company is one of the keys in empdict dictionary\n"
          ]
        }
      ]
    },
    {
      "cell_type": "code",
      "metadata": {
        "colab": {
          "base_uri": "https://localhost:8080/"
        },
        "id": "qwjOJdeHFloM",
        "outputId": "6c778787-29df-4654-9b9d-b3050587102e"
      },
      "source": [
        "#length\n",
        "empdict={\n",
        "    \"name\":\"lochan\",\n",
        "    \"id\":\"4647\",\n",
        "    \"company\":\"wipro\"\n",
        "}\n",
        "print(len(empdict))"
      ],
      "execution_count": null,
      "outputs": [
        {
          "output_type": "stream",
          "name": "stdout",
          "text": [
            "3\n"
          ]
        }
      ]
    },
    {
      "cell_type": "code",
      "metadata": {
        "colab": {
          "base_uri": "https://localhost:8080/"
        },
        "id": "DzwTDoBgFzHB",
        "outputId": "8e098e20-3ef4-445c-8d90-33c714f4d7fe"
      },
      "source": [
        "#adding a item\n",
        "empdict={\n",
        "    \"name\":\"lochan\",\n",
        "    \"id\":\"4647\",\n",
        "    \"company\":\"wipro\"\n",
        "}\n",
        "empdict[\"bloodgroup\"]=\"B+\"\n",
        "print(empdict)"
      ],
      "execution_count": null,
      "outputs": [
        {
          "output_type": "stream",
          "name": "stdout",
          "text": [
            "{'name': 'lochan', 'id': '4647', 'company': 'wipro', 'bloodgroup': 'B+'}\n"
          ]
        }
      ]
    },
    {
      "cell_type": "code",
      "metadata": {
        "colab": {
          "base_uri": "https://localhost:8080/"
        },
        "id": "3D-jeVNX6-D8",
        "outputId": "47ce5c5d-525c-4154-83eb-ec9b2c93e540"
      },
      "source": [
        "#copy() constructor\n",
        "empdict={\n",
        "    \"name\":\"lochan\",\n",
        "    \"id\":\"4647\",\n",
        "    \"company\":\"wipro\"\n",
        "}\n",
        "e1=empdict.copy()\n",
        "print(e1)"
      ],
      "execution_count": null,
      "outputs": [
        {
          "output_type": "stream",
          "name": "stdout",
          "text": [
            "{'name': 'lochan', 'id': '4647', 'company': 'wipro'}\n"
          ]
        }
      ]
    },
    {
      "cell_type": "code",
      "metadata": {
        "colab": {
          "base_uri": "https://localhost:8080/"
        },
        "id": "44fecbQK05y7",
        "outputId": "f6cfa73c-39f2-4b80-92af-0e88e872688e"
      },
      "source": [
        "#number as key and there squares as value\n",
        "n=int(input(\"enter a number\"))\n",
        "d=dict()\n",
        "for x in range(1,n+1):\n",
        "  d[x]=x*x\n",
        "  print(d)"
      ],
      "execution_count": null,
      "outputs": [
        {
          "output_type": "stream",
          "name": "stdout",
          "text": [
            "enter a number6\n",
            "{1: 1}\n",
            "{1: 1, 2: 4}\n",
            "{1: 1, 2: 4, 3: 9}\n",
            "{1: 1, 2: 4, 3: 9, 4: 16}\n",
            "{1: 1, 2: 4, 3: 9, 4: 16, 5: 25}\n",
            "{1: 1, 2: 4, 3: 9, 4: 16, 5: 25, 6: 36}\n"
          ]
        }
      ]
    },
    {
      "cell_type": "code",
      "metadata": {
        "id": "pf6H4YTO1dRL"
      },
      "source": [
        "#sum of all values\n",
        "def returnSum(dict):\n",
        "  for i in dict:\n",
        "    list.append(dict[i])\n",
        "    final=sum(list)\n",
        "    return final\n",
        "    dict={'a':100,'b':500,'c':200}\n",
        "    print(\"Sum:\",returnSum(dict))"
      ],
      "execution_count": null,
      "outputs": []
    },
    {
      "cell_type": "code",
      "metadata": {
        "colab": {
          "base_uri": "https://localhost:8080/"
        },
        "id": "h15fYP_n3_66",
        "outputId": "5279a9d2-c99b-4e54-c782-dd33a8cf6ae1"
      },
      "source": [
        "#add rollno and marks\n",
        "n=int(input(\"enter n:\"))\n",
        "d={}\n",
        "for i in range(n):\n",
        "  roll_no=int(input(\"enter roll_no:\"))\n",
        "  name=input(\"enter name:\")\n",
        "  marks=int(input(\"enter marks:\"))\n",
        "  d[roll_no]=[name,marks]\n",
        "  for k in d:\n",
        "    if(d[k][1]>75):\n",
        "      print(d[k][0])"
      ],
      "execution_count": null,
      "outputs": [
        {
          "name": "stdout",
          "output_type": "stream",
          "text": [
            "enter n:1\n",
            "enter roll_no:1\n",
            "enter name:lochan\n",
            "enter marks:70\n"
          ]
        }
      ]
    },
    {
      "cell_type": "code",
      "metadata": {
        "id": "gNm20hQ_5ybg"
      },
      "source": [
        "#number to word\n",
        "def number_to_word(num):\n",
        "  dict={1:'one',2:'two'}\n",
        "  s=''\n",
        "  for i in str(num):\n",
        "    s+=dict[i]+\"\"\n",
        "    s=s[:-1]\n",
        "    return s"
      ],
      "execution_count": null,
      "outputs": []
    },
    {
      "cell_type": "code",
      "metadata": {
        "colab": {
          "base_uri": "https://localhost:8080/"
        },
        "id": "FE7MYMV86h4I",
        "outputId": "bd12cecf-333c-4cbc-bafd-b6e327e66f5c"
      },
      "source": [
        "#\n",
        "dict={'name':'mark'}\n",
        "print(dict)"
      ],
      "execution_count": null,
      "outputs": [
        {
          "output_type": "stream",
          "name": "stdout",
          "text": [
            "{'name': 'mark'}\n"
          ]
        }
      ]
    }
  ]
}