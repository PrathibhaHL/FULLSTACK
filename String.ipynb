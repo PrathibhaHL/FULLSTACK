{
  "nbformat": 4,
  "nbformat_minor": 0,
  "metadata": {
    "colab": {
      "name": "String.ipynb",
      "provenance": [],
      "collapsed_sections": [],
      "authorship_tag": "ABX9TyO0LLZnln9h6UC5aFAfNPsT",
      "include_colab_link": true
    },
    "kernelspec": {
      "name": "python3",
      "display_name": "Python 3"
    },
    "language_info": {
      "name": "python"
    }
  },
  "cells": [
    {
      "cell_type": "markdown",
      "metadata": {
        "id": "view-in-github",
        "colab_type": "text"
      },
      "source": [
        "<a href=\"https://colab.research.google.com/github/PrathibhaHL/FULLSTACK/blob/main/String.ipynb\" target=\"_parent\"><img src=\"https://colab.research.google.com/assets/colab-badge.svg\" alt=\"Open In Colab\"/></a>"
      ]
    },
    {
      "cell_type": "code",
      "metadata": {
        "colab": {
          "base_uri": "https://localhost:8080/"
        },
        "id": "sQOBBFqValVT",
        "outputId": "f418edd4-1aaa-403f-bdab-4fc25f96cb1e"
      },
      "source": [
        "#assinging string\n",
        "name=\"hkbk\"\n",
        "print(name)"
      ],
      "execution_count": null,
      "outputs": [
        {
          "output_type": "stream",
          "name": "stdout",
          "text": [
            "hkbk\n"
          ]
        }
      ]
    },
    {
      "cell_type": "code",
      "metadata": {
        "colab": {
          "base_uri": "https://localhost:8080/"
        },
        "id": "r3JmWecRbBKK",
        "outputId": "b993651d-ad7c-43da-ebbf-cba523d4ba22"
      },
      "source": [
        "#print\n",
        "print(\"hello\")\n",
        "print('hello')"
      ],
      "execution_count": null,
      "outputs": [
        {
          "output_type": "stream",
          "name": "stdout",
          "text": [
            "hello\n",
            "hello\n"
          ]
        }
      ]
    },
    {
      "cell_type": "code",
      "metadata": {
        "colab": {
          "base_uri": "https://localhost:8080/"
        },
        "id": "h4Yq8ZqTbJBe",
        "outputId": "807f009e-9dbb-4533-af2d-8b4af7081b5b"
      },
      "source": [
        "#multiline string\n",
        "a=\"\"\"single and double quotes \n",
        "  are treated \n",
        "  as same\"\"\"\n",
        "print(a)"
      ],
      "execution_count": null,
      "outputs": [
        {
          "output_type": "stream",
          "name": "stdout",
          "text": [
            "single and double quotes \n",
            "  are treated \n",
            "  as same\n"
          ]
        }
      ]
    },
    {
      "cell_type": "code",
      "metadata": {
        "colab": {
          "base_uri": "https://localhost:8080/"
        },
        "id": "db8RlNqobkCL",
        "outputId": "877d0c9f-3ed7-4b78-96e1-0ee2ea6f80b7"
      },
      "source": [
        "#string as array\n",
        "name=\"hkbk\"\n",
        "print(name[1])"
      ],
      "execution_count": null,
      "outputs": [
        {
          "output_type": "stream",
          "name": "stdout",
          "text": [
            "k\n"
          ]
        }
      ]
    },
    {
      "cell_type": "code",
      "metadata": {
        "colab": {
          "base_uri": "https://localhost:8080/"
        },
        "id": "fPWlcGn6brVL",
        "outputId": "60ec0971-8d41-48f2-fdca-c3d3abd77c37"
      },
      "source": [
        "#slicing\n",
        "a=\"\"\"single and double quotes\n",
        "    are treated\n",
        "    as same\"\"\"\n",
        "print(a[2:7])"
      ],
      "execution_count": null,
      "outputs": [
        {
          "output_type": "stream",
          "name": "stdout",
          "text": [
            "ngle \n"
          ]
        }
      ]
    },
    {
      "cell_type": "code",
      "metadata": {
        "colab": {
          "base_uri": "https://localhost:8080/"
        },
        "id": "ckaItQedb_sb",
        "outputId": "4a79f997-14e9-4d3f-9e49-a970ce20c13e"
      },
      "source": [
        "#negative index\n",
        "a=\"\"\"single and double quotes\n",
        "    are treated \n",
        "    as same\"\"\"\n",
        "print(a[-9:-1])"
      ],
      "execution_count": null,
      "outputs": [
        {
          "output_type": "stream",
          "name": "stdout",
          "text": [
            "  as sam\n"
          ]
        }
      ]
    },
    {
      "cell_type": "code",
      "metadata": {
        "colab": {
          "base_uri": "https://localhost:8080/"
        },
        "id": "jZ4G56UJcPiG",
        "outputId": "4ed96d91-48b5-4d58-e504-75f2b5482881"
      },
      "source": [
        "#method()\n",
        "a=\"\"\"single and double quotes\n",
        "    are treated \n",
        "    as same\"\"\"\n",
        "print(len(a))\n",
        "print(a.strip())\n",
        "print(a.lower())\n",
        "print(a.upper())\n",
        "print(a.replace(\"same\",\"different\"))"
      ],
      "execution_count": null,
      "outputs": [
        {
          "output_type": "stream",
          "name": "stdout",
          "text": [
            "53\n",
            "single and double quotes\n",
            "    are treated \n",
            "    as same\n",
            "single and double quotes\n",
            "    are treated \n",
            "    as same\n",
            "SINGLE AND DOUBLE QUOTES\n",
            "    ARE TREATED \n",
            "    AS SAME\n",
            "single and double quotes\n",
            "    are treated \n",
            "    as different\n"
          ]
        }
      ]
    },
    {
      "cell_type": "code",
      "metadata": {
        "colab": {
          "base_uri": "https://localhost:8080/"
        },
        "id": "1V7YuwoAcbuw",
        "outputId": "2c702c83-8763-40b3-d177-f3900c67356a"
      },
      "source": [
        "#split()\n",
        "a=\"\"\"single and double quotes\n",
        "    are treated\n",
        "    as same\"\"\"\n",
        "print(a.split(\",\"))"
      ],
      "execution_count": null,
      "outputs": [
        {
          "output_type": "stream",
          "name": "stdout",
          "text": [
            "['single and double quotes\\n    are treated\\n    as same']\n"
          ]
        }
      ]
    },
    {
      "cell_type": "code",
      "metadata": {
        "colab": {
          "base_uri": "https://localhost:8080/"
        },
        "id": "kPxKDPFndb7b",
        "outputId": "bd596e5d-ab09-4591-e1ab-d1a2119c9772"
      },
      "source": [
        "#check string\n",
        "city=\"tiptur\",\"tumkur\",\"dharwad\"\n",
        "x=\"tiptur\" in city\n",
        "print(x)"
      ],
      "execution_count": null,
      "outputs": [
        {
          "output_type": "stream",
          "name": "stdout",
          "text": [
            "True\n"
          ]
        }
      ]
    },
    {
      "cell_type": "code",
      "metadata": {
        "id": "MfRQjr9wduo0",
        "colab": {
          "base_uri": "https://localhost:8080/"
        },
        "outputId": "dc8980c8-2f5d-4cdb-e119-c8a89fbcb08c"
      },
      "source": [
        "#concetenation\n",
        "f=\"python\"\n",
        "i=\"programming\"\n",
        "fn=f+\"\"+i\n",
        "print(fn)"
      ],
      "execution_count": null,
      "outputs": [
        {
          "output_type": "stream",
          "name": "stdout",
          "text": [
            "pythonprogramming\n"
          ]
        }
      ]
    },
    {
      "cell_type": "code",
      "metadata": {
        "colab": {
          "base_uri": "https://localhost:8080/",
          "height": 128
        },
        "id": "l9FV9RzXUNrS",
        "outputId": "caa814b0-2b55-4a9c-ad3a-8f55af180ad9"
      },
      "source": [
        "#string format\n",
        "f=\"python\"\n",
        "i=\"programming\"\n",
        "fn=f+\"\"+i\n",
        "txt=\"subject name is {}\",{} version\n",
        "print(txt.format(fn,version))"
      ],
      "execution_count": null,
      "outputs": [
        {
          "output_type": "error",
          "ename": "SyntaxError",
          "evalue": "ignored",
          "traceback": [
            "\u001b[0;36m  File \u001b[0;32m\"<ipython-input-9-3856d8fc39f0>\"\u001b[0;36m, line \u001b[0;32m5\u001b[0m\n\u001b[0;31m    txt=\"subject name is {}\",{} version\u001b[0m\n\u001b[0m                                      ^\u001b[0m\n\u001b[0;31mSyntaxError\u001b[0m\u001b[0;31m:\u001b[0m invalid syntax\n"
          ]
        }
      ]
    },
    {
      "cell_type": "code",
      "metadata": {
        "colab": {
          "base_uri": "https://localhost:8080/"
        },
        "id": "2DXXy_CiVUjY",
        "outputId": "1bf2c5ca-2e51-4fc2-e7fc-06b38c6fc71c"
      },
      "source": [
        "#escape character\n",
        "college=\"this sttp is hosted by \\\"hkbk\\\"\"\n",
        "print(college)"
      ],
      "execution_count": null,
      "outputs": [
        {
          "output_type": "stream",
          "name": "stdout",
          "text": [
            "this sttp is hosted by \"hkbk\"\n"
          ]
        }
      ]
    },
    {
      "cell_type": "code",
      "metadata": {
        "id": "auJ75wTqV9Q2",
        "colab": {
          "base_uri": "https://localhost:8080/"
        },
        "outputId": "681e8b80-46b7-4e91-c450-19069035c464"
      },
      "source": [
        "#string conversion1\n",
        "n=\"345\"\n",
        "print(type(n))\n",
        "n1=int(n)\n",
        "print(type(n1))"
      ],
      "execution_count": 13,
      "outputs": [
        {
          "output_type": "stream",
          "name": "stdout",
          "text": [
            "<class 'str'>\n",
            "<class 'int'>\n"
          ]
        }
      ]
    },
    {
      "cell_type": "code",
      "metadata": {
        "colab": {
          "base_uri": "https://localhost:8080/"
        },
        "id": "tvlHAh1UX-5Z",
        "outputId": "21fb3128-1cb2-4e2c-b256-f48d722880c0"
      },
      "source": [
        "#string conversion2\n",
        "rno=\"34\"\n",
        "print(type(n))\n",
        "rno1=int(rno)\n",
        "print(type(rno1))\n",
        "f=float(\"5.2\")\n",
        "print(f)\n",
        "print(eval(\"5.2\"))"
      ],
      "execution_count": 14,
      "outputs": [
        {
          "output_type": "stream",
          "name": "stdout",
          "text": [
            "<class 'str'>\n",
            "<class 'int'>\n",
            "5.2\n",
            "5.2\n"
          ]
        }
      ]
    },
    {
      "cell_type": "code",
      "metadata": {
        "colab": {
          "base_uri": "https://localhost:8080/"
        },
        "id": "CovY3dGGYXlx",
        "outputId": "0c76a7a4-539f-4248-96a6-c2821f4a1eb9"
      },
      "source": [
        "#string and secret code\n",
        "n=eval(input(\"enter student age:\"))\n",
        "print(n)\n",
        "print(type(n))"
      ],
      "execution_count": 15,
      "outputs": [
        {
          "output_type": "stream",
          "name": "stdout",
          "text": [
            "enter student age:20\n",
            "20\n",
            "<class 'int'>\n"
          ]
        }
      ]
    },
    {
      "cell_type": "code",
      "metadata": {
        "colab": {
          "base_uri": "https://localhost:8080/",
          "height": 212
        },
        "id": "jc1klw8SYnvA",
        "outputId": "766b8ba2-9976-42b2-b830-6bdf5de648f9"
      },
      "source": [
        "#center()\n",
        "txt=\"this sttp is hosted by hkbk\"\n",
        "x=txt.center(100,\"mcs\")\n",
        "print(x)"
      ],
      "execution_count": 21,
      "outputs": [
        {
          "output_type": "error",
          "ename": "TypeError",
          "evalue": "ignored",
          "traceback": [
            "\u001b[0;31m---------------------------------------------------------------------------\u001b[0m",
            "\u001b[0;31mTypeError\u001b[0m                                 Traceback (most recent call last)",
            "\u001b[0;32m<ipython-input-21-7ebe75d37024>\u001b[0m in \u001b[0;36m<module>\u001b[0;34m()\u001b[0m\n\u001b[1;32m      1\u001b[0m \u001b[0;31m#center()\u001b[0m\u001b[0;34m\u001b[0m\u001b[0;34m\u001b[0m\u001b[0;34m\u001b[0m\u001b[0m\n\u001b[1;32m      2\u001b[0m \u001b[0mtxt\u001b[0m\u001b[0;34m=\u001b[0m\u001b[0;34m\"this sttp is hosted by hkbk\"\u001b[0m\u001b[0;34m\u001b[0m\u001b[0;34m\u001b[0m\u001b[0m\n\u001b[0;32m----> 3\u001b[0;31m \u001b[0mx\u001b[0m\u001b[0;34m=\u001b[0m\u001b[0mtxt\u001b[0m\u001b[0;34m.\u001b[0m\u001b[0mcenter\u001b[0m\u001b[0;34m(\u001b[0m\u001b[0;36m100\u001b[0m\u001b[0;34m,\u001b[0m\u001b[0;34m\"mcs\"\u001b[0m\u001b[0;34m)\u001b[0m\u001b[0;34m\u001b[0m\u001b[0;34m\u001b[0m\u001b[0m\n\u001b[0m\u001b[1;32m      4\u001b[0m \u001b[0mprint\u001b[0m\u001b[0;34m(\u001b[0m\u001b[0mx\u001b[0m\u001b[0;34m)\u001b[0m\u001b[0;34m\u001b[0m\u001b[0;34m\u001b[0m\u001b[0m\n",
            "\u001b[0;31mTypeError\u001b[0m: The fill character must be exactly one character long"
          ]
        }
      ]
    },
    {
      "cell_type": "code",
      "metadata": {
        "colab": {
          "base_uri": "https://localhost:8080/"
        },
        "id": "pKxjyi9iZK6u",
        "outputId": "c6829148-badf-434c-c1ab-908e4dae9c5e"
      },
      "source": [
        "#endswith()\n",
        "txt=\"this sttp is hosted by hkbk\"\n",
        "x=txt.endswith(\".\")\n",
        "print(x)"
      ],
      "execution_count": 22,
      "outputs": [
        {
          "output_type": "stream",
          "name": "stdout",
          "text": [
            "False\n"
          ]
        }
      ]
    },
    {
      "cell_type": "code",
      "metadata": {
        "colab": {
          "base_uri": "https://localhost:8080/"
        },
        "id": "w_UBR_fAZa0J",
        "outputId": "ce0331f7-de6e-4a5d-a252-20f11051816a"
      },
      "source": [
        "#find()\n",
        "txt=\"this sttp is hosted by hkbk\"\n",
        "x=txt.find(\"sttp\")\n",
        "print(x)"
      ],
      "execution_count": 23,
      "outputs": [
        {
          "output_type": "stream",
          "name": "stdout",
          "text": [
            "5\n"
          ]
        }
      ]
    },
    {
      "cell_type": "code",
      "metadata": {
        "colab": {
          "base_uri": "https://localhost:8080/"
        },
        "id": "OY5KG-XRZmYy",
        "outputId": "ce9a54d2-928e-4121-8c55-78e063f82848"
      },
      "source": [
        "#replace()\n",
        "txt=\"this sttp is hosted by hkbk\"\n",
        "x=txt.replace(\"sttp\",\"mcs\")\n",
        "print(x)"
      ],
      "execution_count": 25,
      "outputs": [
        {
          "output_type": "stream",
          "name": "stdout",
          "text": [
            "this mcs is hosted by hkbk\n"
          ]
        }
      ]
    }
  ]
}